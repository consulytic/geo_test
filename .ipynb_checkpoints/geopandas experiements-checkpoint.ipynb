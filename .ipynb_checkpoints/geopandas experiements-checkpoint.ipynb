{
 "cells": [
  {
   "cell_type": "markdown",
   "metadata": {},
   "source": [
    "## geopandas experiments ##\n",
    "\n",
    "---\n",
    "The environment has been set up, using miniconda to:\n",
    "- create the geo_env environment\n",
    "- install all geopandas with all of its pre-requisites\n",
    "- install Jupyter Notebooks & Labs\n",
    "\n",
    "---\n",
    "*Despite installing using conda, Jupyter Notebook through an error about tbb.so.lib, so I installed it manually. Also, for the Alberta ED Map to plt, I needed the Descartes library.*\n",
    "\n",
    "--- \n",
    "Step one - Import the correct libraries & tell matplotlib to show plots inline"
   ]
  },
  {
   "cell_type": "code",
   "execution_count": 1,
   "metadata": {},
   "outputs": [],
   "source": [
    "import pandas as pd\n",
    "import geopandas as gpd\n",
    "from shapely.geometry import Point\n",
    "%matplotlib inline"
   ]
  },
  {
   "cell_type": "markdown",
   "metadata": {},
   "source": [
    "---\n",
    "Step two - read the Shapefile"
   ]
  },
  {
   "cell_type": "code",
   "execution_count": 2,
   "metadata": {},
   "outputs": [],
   "source": [
    "gdf = gpd.read_file(\"data/EDS_ENACTED_BILL33_15DEC2017.shp\")"
   ]
  },
  {
   "cell_type": "markdown",
   "metadata": {},
   "source": [
    "---\n",
    "Step three - read the header info"
   ]
  },
  {
   "cell_type": "code",
   "execution_count": 3,
   "metadata": {},
   "outputs": [
    {
     "data": {
      "text/html": [
       "<div>\n",
       "<style scoped>\n",
       "    .dataframe tbody tr th:only-of-type {\n",
       "        vertical-align: middle;\n",
       "    }\n",
       "\n",
       "    .dataframe tbody tr th {\n",
       "        vertical-align: top;\n",
       "    }\n",
       "\n",
       "    .dataframe thead th {\n",
       "        text-align: right;\n",
       "    }\n",
       "</style>\n",
       "<table border=\"1\" class=\"dataframe\">\n",
       "  <thead>\n",
       "    <tr style=\"text-align: right;\">\n",
       "      <th></th>\n",
       "      <th>EDNumber20</th>\n",
       "      <th>EDName2017</th>\n",
       "      <th>Km2</th>\n",
       "      <th>Hectares</th>\n",
       "      <th>Acres</th>\n",
       "      <th>Authority</th>\n",
       "      <th>Shape_Leng</th>\n",
       "      <th>Shape_Area</th>\n",
       "      <th>geometry</th>\n",
       "    </tr>\n",
       "  </thead>\n",
       "  <tbody>\n",
       "    <tr>\n",
       "      <th>0</th>\n",
       "      <td>72</td>\n",
       "      <td>Lethbridge-West</td>\n",
       "      <td>74.256454</td>\n",
       "      <td>7.425645e+03</td>\n",
       "      <td>1.834917e+04</td>\n",
       "      <td>Legislative Assembly of Alberta</td>\n",
       "      <td>4.997809e+04</td>\n",
       "      <td>7.425645e+07</td>\n",
       "      <td>POLYGON ((152787.208 5497277.703, 152688.744 5...</td>\n",
       "    </tr>\n",
       "    <tr>\n",
       "      <th>1</th>\n",
       "      <td>71</td>\n",
       "      <td>Lethbridge-East</td>\n",
       "      <td>49.627895</td>\n",
       "      <td>4.962790e+03</td>\n",
       "      <td>1.226332e+04</td>\n",
       "      <td>Legislative Assembly of Alberta</td>\n",
       "      <td>4.003147e+04</td>\n",
       "      <td>4.962789e+07</td>\n",
       "      <td>POLYGON ((160002.064 5508453.834, 160022.389 5...</td>\n",
       "    </tr>\n",
       "    <tr>\n",
       "      <th>2</th>\n",
       "      <td>54</td>\n",
       "      <td>Cardston-Siksika</td>\n",
       "      <td>15772.933594</td>\n",
       "      <td>1.577293e+06</td>\n",
       "      <td>3.897577e+06</td>\n",
       "      <td>Legislative Assembly of Alberta</td>\n",
       "      <td>1.053106e+06</td>\n",
       "      <td>1.577293e+10</td>\n",
       "      <td>POLYGON ((239708.271 5554815.113, 239708.887 5...</td>\n",
       "    </tr>\n",
       "  </tbody>\n",
       "</table>\n",
       "</div>"
      ],
      "text/plain": [
       "   EDNumber20        EDName2017           Km2      Hectares         Acres  \\\n",
       "0          72   Lethbridge-West     74.256454  7.425645e+03  1.834917e+04   \n",
       "1          71   Lethbridge-East     49.627895  4.962790e+03  1.226332e+04   \n",
       "2          54  Cardston-Siksika  15772.933594  1.577293e+06  3.897577e+06   \n",
       "\n",
       "                         Authority    Shape_Leng    Shape_Area  \\\n",
       "0  Legislative Assembly of Alberta  4.997809e+04  7.425645e+07   \n",
       "1  Legislative Assembly of Alberta  4.003147e+04  4.962789e+07   \n",
       "2  Legislative Assembly of Alberta  1.053106e+06  1.577293e+10   \n",
       "\n",
       "                                            geometry  \n",
       "0  POLYGON ((152787.208 5497277.703, 152688.744 5...  \n",
       "1  POLYGON ((160002.064 5508453.834, 160022.389 5...  \n",
       "2  POLYGON ((239708.271 5554815.113, 239708.887 5...  "
      ]
     },
     "execution_count": 3,
     "metadata": {},
     "output_type": "execute_result"
    }
   ],
   "source": [
    "gdf.head(3)"
   ]
  },
  {
   "cell_type": "markdown",
   "metadata": {},
   "source": [
    "---\n",
    "Step four - a quick plot"
   ]
  },
  {
   "cell_type": "code",
   "execution_count": 4,
   "metadata": {},
   "outputs": [
    {
     "data": {
      "text/plain": [
       "<matplotlib.axes._subplots.AxesSubplot at 0x7b4a5cdda1f0>"
      ]
     },
     "execution_count": 4,
     "metadata": {},
     "output_type": "execute_result"
    },
    {
     "data": {
      "image/png": "[encoded data removed]",
      "text/plain": [
       "<Figure size 432x288 with 1 Axes>"
      ]
     },
     "metadata": {
      "needs_background": "light"
     },
     "output_type": "display_data"
    }
   ],
   "source": [
    "gdf.plot()"
   ]
  },
  {
   "cell_type": "markdown",
   "metadata": {},
   "source": [
    "---\n",
    "Another quick plot, this time all EDs"
   ]
  },
  {
   "cell_type": "code",
   "execution_count": 5,
   "metadata": {},
   "outputs": [
    {
     "data": {
      "text/plain": [
       "<matplotlib.axes._subplots.AxesSubplot at 0x7b4a5d088a00>"
      ]
     },
     "execution_count": 5,
     "metadata": {},
     "output_type": "execute_result"
    },
    {
     "data": {
      "image/png": "[encoded data removed]",
      "text/plain": [
       "<Figure size 432x288 with 1 Axes>"
      ]
     },
     "metadata": {
      "needs_background": "light"
     },
     "output_type": "display_data"
    }
   ],
   "source": [
    "gdf.plot(column=\"EDName2017\")"
   ]
  },
  {
   "cell_type": "code",
   "execution_count": 6,
   "metadata": {},
   "outputs": [
    {
     "data": {
      "text/plain": [
       "783"
      ]
     },
     "execution_count": 6,
     "metadata": {},
     "output_type": "execute_result"
    }
   ],
   "source": [
    "gdf.size"
   ]
  },
  {
   "cell_type": "code",
   "execution_count": 7,
   "metadata": {},
   "outputs": [
    {
     "data": {
      "text/plain": [
       "(87, 9)"
      ]
     },
     "execution_count": 7,
     "metadata": {},
     "output_type": "execute_result"
    }
   ],
   "source": [
    "gdf.shape"
   ]
  },
  {
   "cell_type": "code",
   "execution_count": null,
   "metadata": {},
   "outputs": [],
   "source": []
  }
 ],
 "metadata": {
  "kernelspec": {
   "display_name": "Python 3",
   "language": "python",
   "name": "python3"
  },
  "language_info": {
   "codemirror_mode": {
    "name": "ipython",
    "version": 3
   },
   "file_extension": ".py",
   "mimetype": "text/x-python",
   "name": "python",
   "nbconvert_exporter": "python",
   "pygments_lexer": "ipython3",
   "version": "3.8.2"
  }
 },
 "nbformat": 4,
 "nbformat_minor": 4
}
